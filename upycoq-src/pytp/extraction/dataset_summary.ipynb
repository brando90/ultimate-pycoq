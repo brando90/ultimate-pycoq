{
 "cells": [
  {
   "cell_type": "code",
   "execution_count": null,
   "metadata": {},
   "outputs": [],
   "source": [
    "import json\n",
    "from pathlib import Path\n",
    "\n",
    "json_path = Path('/home/jizej/ultimate-pycoq/upycoq-src/pytp/extraction/extracted_theorems/extracted_theorems_0_10.json')\n",
    "project_path = Path('/home/jizej/ultimate-pycoq/upycoq-src/pytp/extraction/extracted_theorems/')\n",
    "coq_project_summary = Path('/home/jizej/ultimate-pycoq/upycoq-src/pytp/extraction/coq_projects_theorem_names.json')"
   ]
  },
  {
   "cell_type": "code",
   "execution_count": 9,
   "metadata": {},
   "outputs": [
    {
     "data": {
      "text/plain": [
       "11"
      ]
     },
     "execution_count": 9,
     "metadata": {},
     "output_type": "execute_result"
    }
   ],
   "source": [
    "len(js[0])"
   ]
  },
  {
   "cell_type": "code",
   "execution_count": 15,
   "metadata": {},
   "outputs": [
    {
     "data": {
      "text/plain": [
       "[PosixPath('/home/jizej/ultimate-pycoq/upycoq-src/pytp/extraction/extracted_theorems/extracted_theorems_40_50.json'),\n",
       " PosixPath('/home/jizej/ultimate-pycoq/upycoq-src/pytp/extraction/extracted_theorems/extracted_theorems_60_70.json'),\n",
       " PosixPath('/home/jizej/ultimate-pycoq/upycoq-src/pytp/extraction/extracted_theorems/extracted_theorems_80_90.json'),\n",
       " PosixPath('/home/jizej/ultimate-pycoq/upycoq-src/pytp/extraction/extracted_theorems/extracted_theorems.json'),\n",
       " PosixPath('/home/jizej/ultimate-pycoq/upycoq-src/pytp/extraction/extracted_theorems/extracted_theorems_70_80.json'),\n",
       " PosixPath('/home/jizej/ultimate-pycoq/upycoq-src/pytp/extraction/extracted_theorems/extracted_theorems_20_30.json'),\n",
       " PosixPath('/home/jizej/ultimate-pycoq/upycoq-src/pytp/extraction/extracted_theorems/extracted_theorems_120_-1.json'),\n",
       " PosixPath('/home/jizej/ultimate-pycoq/upycoq-src/pytp/extraction/extracted_theorems/extracted_theorems_0_10.json')]"
      ]
     },
     "execution_count": 15,
     "metadata": {},
     "output_type": "execute_result"
    }
   ],
   "source": [
    "list(project_path.rglob(\"*.json\"))"
   ]
  },
  {
   "cell_type": "code",
   "execution_count": 17,
   "metadata": {},
   "outputs": [
    {
     "name": "stdout",
     "output_type": "stream",
     "text": [
      "/home/jizej/ultimate-pycoq/upycoq-src/pytp/extraction/extracted_theorems/extracted_theorems_40_50.json\n",
      "835\n",
      "/home/jizej/ultimate-pycoq/upycoq-src/pytp/extraction/extracted_theorems/extracted_theorems_60_70.json\n",
      "757\n",
      "/home/jizej/ultimate-pycoq/upycoq-src/pytp/extraction/extracted_theorems/extracted_theorems_80_90.json\n",
      "456\n",
      "/home/jizej/ultimate-pycoq/upycoq-src/pytp/extraction/extracted_theorems/extracted_theorems.json\n",
      "238\n",
      "/home/jizej/ultimate-pycoq/upycoq-src/pytp/extraction/extracted_theorems/extracted_theorems_70_80.json\n",
      "470\n",
      "/home/jizej/ultimate-pycoq/upycoq-src/pytp/extraction/extracted_theorems/extracted_theorems_20_30.json\n",
      "514\n",
      "/home/jizej/ultimate-pycoq/upycoq-src/pytp/extraction/extracted_theorems/extracted_theorems_120_-1.json\n",
      "685\n",
      "/home/jizej/ultimate-pycoq/upycoq-src/pytp/extraction/extracted_theorems/extracted_theorems_0_10.json\n",
      "294\n"
     ]
    }
   ],
   "source": [
    "for each_file in list(project_path.rglob(\"*.json\")):\n",
    "    print(each_file)\n",
    "    js = json.load(open(each_file))\n",
    "    print(len(js))"
   ]
  },
  {
   "cell_type": "code",
   "execution_count": null,
   "metadata": {},
   "outputs": [],
   "source": []
  }
 ],
 "metadata": {
  "kernelspec": {
   "display_name": "pytp",
   "language": "python",
   "name": "python3"
  },
  "language_info": {
   "codemirror_mode": {
    "name": "ipython",
    "version": 3
   },
   "file_extension": ".py",
   "mimetype": "text/x-python",
   "name": "python",
   "nbconvert_exporter": "python",
   "pygments_lexer": "ipython3",
   "version": "3.10.13"
  }
 },
 "nbformat": 4,
 "nbformat_minor": 2
}
